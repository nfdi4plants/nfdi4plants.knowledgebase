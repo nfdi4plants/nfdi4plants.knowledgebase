{
 "cells": [
  {
   "cell_type": "markdown",
   "metadata": {},
   "source": [
    "# Image cleanup\n",
    "\n",
    "- remove all images, that are not linked in markdown files\n",
    "\n",
    "Source: https://stackoverflow.com/questions/72501022/moving-images-that-are-not-linked-to-in-a-set-of-markdown-files-to-a-trash-folde"
   ]
  },
  {
   "cell_type": "code",
   "execution_count": null,
   "metadata": {},
   "outputs": [],
   "source": [
    "import shutil\n",
    "from pathlib import Path\n",
    "import glob\n",
    "import os\n",
    "\n",
    "\n",
    "cwd = Path.cwd()\n",
    "attachment_folder = cwd / '../img'\n",
    "note_folder = cwd / '../slide-decks'\n",
    "trash_folder = Path('../.trash')\n",
    "\n",
    "all_note_paths = list(glob.glob(os.path.join(note_folder, '**/*.md'), recursive=True))\n",
    "all_attachment_paths = list(attachment_folder.glob('*.*'))\n",
    "\n",
    "all_note_paths\n",
    "\n",
    "\n",
    "all_texts = ''\n",
    "\n",
    "for note_path in all_note_paths:\n",
    "    with open(note_path, 'r') as f:\n",
    "        all_texts +=  f.read()\n",
    "\n",
    "for attachment_path in all_attachment_paths:\n",
    "    if attachment_path.stem not in all_texts:\n",
    "        print(f'{attachment_path.name} moved to Trash')\n",
    "        shutil.move(attachment_path, trash_folder/f'{attachment_path.name}')"
   ]
  },
  {
   "cell_type": "code",
   "execution_count": 30,
   "metadata": {},
   "outputs": [],
   "source": [
    "import os\n",
    "import re\n",
    "\n",
    "def replace_image_links_with_lowercase(directory):\n",
    "    # Define a pattern to match image files regardless of quotes\n",
    "    image_extensions = r\"(png|jpg|jpeg|gif|svg|bmp|tiff|webp)\"\n",
    "    pattern = re.compile(r'([a-zA-Z0-9_\\-\\.]+)\\.(' + image_extensions + r')', re.IGNORECASE)\n",
    "\n",
    "    # Walk through all files and subdirectories in the specified directory\n",
    "    for root, _, files in os.walk(directory):\n",
    "        for filename in files:\n",
    "            file_path = os.path.join(root, filename)\n",
    "\n",
    "            if os.path.isfile(file_path):\n",
    "                # Try reading the file with UTF-8 encoding, then fallback to ISO-8859-1 if it fails\n",
    "                try:\n",
    "                    with open(file_path, 'r', encoding='utf-8') as file:\n",
    "                        content = file.read()\n",
    "                except UnicodeDecodeError:\n",
    "                    with open(file_path, 'r', encoding='ISO-8859-1') as file:\n",
    "                        content = file.read()\n",
    "\n",
    "                # Lowercase the entire matched filename (including the extension)\n",
    "                new_content = pattern.sub(lambda match: f\"{match.group(1).lower()}.{match.group(2).lower()}\", content)\n",
    "\n",
    "                # Write updated content back to the file\n",
    "                with open(file_path, 'w', encoding='utf-8') as file:\n",
    "                    file.write(new_content)\n",
    "\n",
    "                print(f\"Processed file: {file_path}\")\n"
   ]
  },
  {
   "cell_type": "code",
   "execution_count": null,
   "metadata": {},
   "outputs": [],
   "source": [
    "\n",
    "# Set the directory path where files are located\n",
    "directory_path = \"../slide-decks/\"\n",
    "replace_image_links_with_lowercase(directory_path)\n"
   ]
  },
  {
   "cell_type": "code",
   "execution_count": 34,
   "metadata": {},
   "outputs": [],
   "source": [
    "import os\n",
    "import re\n",
    "\n",
    "def replace_image_links_with_lowercase_and_underscore(directory, allowed_extensions):\n",
    "    # Define a pattern to match image files\n",
    "    image_extensions = r\"(png|jpg|jpeg|gif|svg|bmp|tiff|webp)\"\n",
    "    pattern = re.compile(r'([a-zA-Z0-9_\\-\\.]+)\\.(' + image_extensions + r')', re.IGNORECASE)\n",
    "\n",
    "    # Walk through all files and subdirectories in the specified directory\n",
    "    for root, _, files in os.walk(directory):\n",
    "        for filename in files:\n",
    "            file_path = os.path.join(root, filename)\n",
    "\n",
    "            # Check if the file has one of the allowed extensions\n",
    "            if os.path.isfile(file_path) and filename.lower().endswith(tuple(allowed_extensions)):\n",
    "                # Try reading the file with UTF-8 encoding, then fallback to ISO-8859-1 if it fails\n",
    "                try:\n",
    "                    with open(file_path, 'r', encoding='utf-8') as file:\n",
    "                        content = file.read()\n",
    "                except UnicodeDecodeError:\n",
    "                    with open(file_path, 'r', encoding='ISO-8859-1') as file:\n",
    "                        content = file.read()\n",
    "\n",
    "                # Lowercase the entire matched filename and replace underscores with dashes\n",
    "                new_content = pattern.sub(lambda match: f\"{match.group(1).lower().replace('_', '-')}.{match.group(2).lower()}\", content)\n",
    "\n",
    "                # Write updated content back to the file\n",
    "                with open(file_path, 'w', encoding='utf-8') as file:\n",
    "                    file.write(new_content)\n",
    "\n",
    "                print(f\"Processed file: {file_path}\")\n",
    "\n",
    "# Set the root directory where files are located\n",
    "directory_path = '/path/to/your/files'\n",
    "# Specify allowed file extensions\n",
    "allowed_extensions = ['.md', '.txt']\n",
    "\n",
    "replace_image_links_with_lowercase_and_underscore(directory_path, allowed_extensions)\n"
   ]
  },
  {
   "cell_type": "code",
   "execution_count": 35,
   "metadata": {},
   "outputs": [
    {
     "ename": "TypeError",
     "evalue": "replace_image_links_with_lowercase_and_underscore() missing 1 required positional argument: 'allowed_extensions'",
     "output_type": "error",
     "traceback": [
      "\u001b[0;31m---------------------------------------------------------------------------\u001b[0m",
      "\u001b[0;31mTypeError\u001b[0m                                 Traceback (most recent call last)",
      "Cell \u001b[0;32mIn[35], line 3\u001b[0m\n\u001b[1;32m      1\u001b[0m \u001b[38;5;66;03m# Set the directory path where files are located\u001b[39;00m\n\u001b[1;32m      2\u001b[0m directory_path \u001b[38;5;241m=\u001b[39m \u001b[38;5;124m\"\u001b[39m\u001b[38;5;124m../slide-decks/\u001b[39m\u001b[38;5;124m\"\u001b[39m\n\u001b[0;32m----> 3\u001b[0m replace_image_links_with_lowercase_and_underscore(directory_path)\n",
      "\u001b[0;31mTypeError\u001b[0m: replace_image_links_with_lowercase_and_underscore() missing 1 required positional argument: 'allowed_extensions'"
     ]
    }
   ],
   "source": [
    "# Set the directory path where files are located\n",
    "directory_path = \"../slide-decks/\"\n",
    "replace_image_links_with_lowercase_and_underscore(directory_path, allowed_extensions)"
   ]
  }
 ],
 "metadata": {
  "kernelspec": {
   "display_name": "base",
   "language": "python",
   "name": "python3"
  },
  "language_info": {
   "codemirror_mode": {
    "name": "ipython",
    "version": 3
   },
   "file_extension": ".py",
   "mimetype": "text/x-python",
   "name": "python",
   "nbconvert_exporter": "python",
   "pygments_lexer": "ipython3",
   "version": "3.11.7"
  }
 },
 "nbformat": 4,
 "nbformat_minor": 2
}
